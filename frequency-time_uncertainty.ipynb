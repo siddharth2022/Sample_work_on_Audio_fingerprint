{
 "cells": [
  {
   "cell_type": "code",
   "execution_count": null,
   "metadata": {
    "collapsed": true
   },
   "outputs": [],
   "source": [
    "import numpy as np\n",
    "import matplotlib.pyplot as plt\n",
    "from IPython.display import Audio, display"
   ]
  },
  {
   "cell_type": "code",
   "execution_count": null,
   "metadata": {
    "collapsed": false
   },
   "outputs": [],
   "source": [
    "%matplotlib inline\n",
    "plt.rcParams.update({'font.size': 18})"
   ]
  },
  {
   "cell_type": "code",
   "execution_count": null,
   "metadata": {
    "collapsed": false
   },
   "outputs": [],
   "source": [
    "def beat_freq(f, max_time, rate):\n",
    "    t = np.linspace(0, max_time, rate*max_time)\n",
    "    signal = np.sin(2*np.pi*f*t)\n",
    "    display(Audio(data=signal, rate=rate))\n",
    "    return signal"
   ]
  },
  {
   "cell_type": "code",
   "execution_count": null,
   "metadata": {
    "collapsed": false
   },
   "outputs": [],
   "source": [
    "signal_250 = beat_freq(250.0, 1, 11025)\n",
    "signal_275 = beat_freq(275.0, 1, 11025)\n",
    "signal_300 = beat_freq(300.0, 1, 11025)"
   ]
  },
  {
   "cell_type": "code",
   "execution_count": null,
   "metadata": {
    "collapsed": true
   },
   "outputs": [],
   "source": [
    "signal = np.hstack((signal_275+signal_300, signal_275+signal_250))"
   ]
  },
  {
   "cell_type": "code",
   "execution_count": null,
   "metadata": {
    "collapsed": false
   },
   "outputs": [],
   "source": [
    "fig1 = plt.figure(figsize=(10, 8), facecolor='white')\n",
    "plt.specgram(signal, NFFT=4096, Fs=11025, noverlap=2048, cmap='viridis')\n",
    "ax1 = plt.gca()\n",
    "ax1.set_ylim([0, 600])\n",
    "plt.xlabel('Time bin [s]')\n",
    "plt.ylabel('Frequency [Hz]')\n",
    "plt.show()"
   ]
  },
  {
   "cell_type": "code",
   "execution_count": null,
   "metadata": {
    "collapsed": false
   },
   "outputs": [],
   "source": [
    "fig2 = plt.figure(figsize=(10, 8), facecolor='white')\n",
    "plt.specgram(signal, NFFT=1024, Fs=11025, noverlap=512, cmap='viridis')\n",
    "ax2 = plt.gca()\n",
    "ax2.set_ylim([0, 600])\n",
    "plt.xlabel('Time bin [s]')\n",
    "plt.ylabel('Frequency [Hz]')\n",
    "plt.show()"
   ]
  }
 ],
 "metadata": {
  "kernelspec": {
   "display_name": "Python 3",
   "language": "python",
   "name": "python3"
  },
  "language_info": {
   "codemirror_mode": {
    "name": "ipython",
    "version": 3
   },
   "file_extension": ".py",
   "mimetype": "text/x-python",
   "name": "python",
   "nbconvert_exporter": "python",
   "pygments_lexer": "ipython3",
   "version": "3.5.0"
  }
 },
 "nbformat": 4,
 "nbformat_minor": 0
}
