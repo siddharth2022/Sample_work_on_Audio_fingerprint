{
 "cells": [
  {
   "cell_type": "code",
   "execution_count": null,
   "metadata": {
    "collapsed": false
   },
   "outputs": [],
   "source": [
    "import youtube_dl\n",
    "import subprocess"
   ]
  },
  {
   "cell_type": "code",
   "execution_count": null,
   "metadata": {
    "collapsed": true
   },
   "outputs": [],
   "source": [
    "song_links = ['https://www.youtube.com/watch?v=5NV6Rdv1a3I',\n",
    "              'https://www.youtube.com/watch?v=AmEIemQfk34',\n",
    "              'https://www.youtube.com/watch?v=QGJuMBdaqIw',\n",
    "              'https://www.youtube.com/watch?v=fJ9rUzIMcZQ',\n",
    "              'https://www.youtube.com/watch?v=Soa3gO7tL-c']\n",
    "\n",
    "song_artist = ['Daft_Punk', 'Tiesto', 'Katy_Perry', 'Queen', 'Green_Day']"
   ]
  },
  {
   "cell_type": "code",
   "execution_count": null,
   "metadata": {
    "collapsed": false
   },
   "outputs": [],
   "source": [
    "for idx, link in enumerate(song_links):\n",
    "    opt_name = song_artist[idx] + '.%(ext)s'\n",
    "    options = {'format': 'bestaudio/best',\n",
    "               'extractaudio': True,\n",
    "               'audioformat': 'wav',\n",
    "               'outtmpl': opt_name}\n",
    "    with youtube_dl.YoutubeDL(options) as ydl:\n",
    "        ydl.download([link])\n",
    "        \n",
    "    ffmpeg_str = ('ffmpeg -i \"' + song_artist[idx] + '.m4a\" -vn -ac 1 -ar 44100 -f wav ' \n",
    "                  + song_artist[idx] + '.wav')\n",
    "    subprocess.run(ffmpeg_str, shell=True)\n",
    "    "
   ]
  }
 ],
 "metadata": {
  "kernelspec": {
   "display_name": "Python 3",
   "language": "python",
   "name": "python3"
  },
  "language_info": {
   "codemirror_mode": {
    "name": "ipython",
    "version": 3
   },
   "file_extension": ".py",
   "mimetype": "text/x-python",
   "name": "python",
   "nbconvert_exporter": "python",
   "pygments_lexer": "ipython3",
   "version": "3.5.0"
  }
 },
 "nbformat": 4,
 "nbformat_minor": 0
}
